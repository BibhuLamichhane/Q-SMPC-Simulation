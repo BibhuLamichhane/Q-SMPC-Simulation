{
 "cells": [
  {
   "cell_type": "code",
   "execution_count": 1,
   "id": "4737fde5",
   "metadata": {},
   "outputs": [],
   "source": [
    "import pandas as pd\n",
    "import numpy as np\n",
    "import argparse"
   ]
  },
  {
   "cell_type": "code",
   "execution_count": 2,
   "id": "f88c4563",
   "metadata": {},
   "outputs": [],
   "source": [
    "total_parties = 4\n",
    "num_samples = 1000"
   ]
  },
  {
   "cell_type": "code",
   "execution_count": 3,
   "id": "01d0d6a8",
   "metadata": {},
   "outputs": [],
   "source": [
    "def generate_data(num_samples):\n",
    "    \"\"\"\n",
    "    Generate a list of threat bits based on the number of bits specified.\n",
    "    \"\"\"\n",
    "    return np.random.choice([0, 1], size=num_samples)\n"
   ]
  },
  {
   "cell_type": "code",
   "execution_count": 4,
   "id": "f3fb9f0f",
   "metadata": {},
   "outputs": [],
   "source": [
    "def generate_threat_bits(num_samples, total_parties):\n",
    "    \"\"\"\n",
    "    Generate a DataFrame with threat bits for each party.\n",
    "    \"\"\"\n",
    "    data = {\n",
    "        f'party_{chr(65 + i)}': generate_data(num_samples) for i in range(total_parties)\n",
    "    }\n",
    "    \n",
    "    return pd.DataFrame(data)"
   ]
  },
  {
   "cell_type": "code",
   "execution_count": 5,
   "id": "0a62060a",
   "metadata": {},
   "outputs": [],
   "source": [
    "threat_bits = generate_threat_bits(num_samples, total_parties)\n",
    "\n",
    "threat_bits.to_csv('threat_bits.csv', index=False)"
   ]
  },
  {
   "cell_type": "code",
   "execution_count": null,
   "id": "9b45560f",
   "metadata": {},
   "outputs": [],
   "source": []
  }
 ],
 "metadata": {
  "kernelspec": {
   "display_name": "quantum-computing",
   "language": "python",
   "name": "python3"
  },
  "language_info": {
   "codemirror_mode": {
    "name": "ipython",
    "version": 3
   },
   "file_extension": ".py",
   "mimetype": "text/x-python",
   "name": "python",
   "nbconvert_exporter": "python",
   "pygments_lexer": "ipython3",
   "version": "3.10.16"
  }
 },
 "nbformat": 4,
 "nbformat_minor": 5
}
