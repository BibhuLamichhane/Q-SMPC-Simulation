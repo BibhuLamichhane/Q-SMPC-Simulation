{
 "cells": [
  {
   "cell_type": "code",
   "execution_count": 1,
   "id": "56612694",
   "metadata": {},
   "outputs": [],
   "source": [
    "import numpy as np\n",
    "import pandas as pd\n",
    "from qiskit import QuantumCircuit, transpile\n",
    "from qiskit_aer import AerSimulator\n",
    "from typing import List, Tuple\n",
    "from collections import Counter\n",
    "from scipy.stats import entropy as shannon_entropy\n",
    "from collections import Counter\n",
    "from itertools import chain\n",
    "import time"
   ]
  },
  {
   "cell_type": "code",
   "execution_count": 2,
   "id": "05aafe97",
   "metadata": {},
   "outputs": [],
   "source": [
    "# Constants\n",
    "PARTY_SIZE = 4\n",
    "SAMPLE_SIZE = 1000"
   ]
  },
  {
   "cell_type": "code",
   "execution_count": null,
   "id": "bb2893e7",
   "metadata": {},
   "outputs": [],
   "source": [
    "# 1. Load data\n",
    "def prepare_data(qrng_path: str, threat_path) -> Tuple[np.ndarray, np.ndarray]:\n",
    "    qrng = pd.read_csv(qrng_path).values\n",
    "    threat = pd.read_csv(threat_path).values.astype(int)\n",
    "    assert qrng.shape == threat.shape == (SAMPLE_SIZE, PARTY_SIZE)\n",
    "    return qrng, threat"
   ]
  },
  {
   "cell_type": "code",
   "execution_count": null,
   "id": "d1b4eb68",
   "metadata": {},
   "outputs": [],
   "source": [
    "def majority_classical(bits: List[int]) -> int:\n",
    "    \"\"\"Return 1 if majority of bits are 1 (3 or more in a 4-party setup).\"\"\"\n",
    "    return int(sum(bits) >= 3)"
   ]
  },
  {
   "cell_type": "code",
   "execution_count": null,
   "id": "f6cce847",
   "metadata": {},
   "outputs": [],
   "source": [
    "def or_classical(bits: List[int]) -> int:\n",
    "    \"\"\"Return 1 if at least one party saw the threat.\"\"\"\n",
    "    return int(any(bits))"
   ]
  },
  {
   "cell_type": "code",
   "execution_count": null,
   "id": "d56657c1",
   "metadata": {},
   "outputs": [],
   "source": [
    "def compute_metrics(\n",
    "    predictions: List[int],\n",
    "    true_bits: np.ndarray,\n",
    "    angles: np.ndarray\n",
    ") -> Tuple[float, float, float]:\n",
    "    \"\"\"\n",
    "    Evaluate predictions against classical ground truths.\n",
    "    \n",
    "    Returns:\n",
    "        - Accuracy vs majority\n",
    "        - Accuracy vs OR\n",
    "        - QRNG angle entropy (Shannon entropy over 32 bins)\n",
    "    \"\"\"\n",
    "    assert len(predictions) == len(true_bits) == len(angles)\n",
    "\n",
    "    correct_majority = 0\n",
    "\n",
    "    for i in range(len(predictions)):\n",
    "        pred = predictions[i]\n",
    "        majority_truth = majority_classical(true_bits[i])\n",
    "\n",
    "        if pred == majority_truth:\n",
    "            correct_majority += 1\n",
    "\n",
    "\n",
    "    acc_majority = correct_majority / len(predictions)\n",
    "\n",
    "    # Entropy over flattened angles\n",
    "    flat_angles = angles.flatten()\n",
    "    hist, _ = np.histogram(flat_angles, bins=32, range=(0, 2 * np.pi), density=True)\n",
    "    entropy_val = shannon_entropy(hist)\n",
    "\n",
    "    return acc_majority, entropy_val"
   ]
  },
  {
   "cell_type": "code",
   "execution_count": null,
   "id": "b8642a61",
   "metadata": {},
   "outputs": [],
   "source": [
    "# 2. Build correct Q-SMPC circuit\n",
    "def build_qsmpc_circuit(angles: List[float], bits: List[int]) -> QuantumCircuit:\n",
    "    qc = QuantumCircuit(PARTY_SIZE, PARTY_SIZE)\n",
    "    \n",
    "    # Step 1: Graph state\n",
    "    qc.h(range(PARTY_SIZE))\n",
    "    for i in range(PARTY_SIZE - 1):\n",
    "        qc.cz(i, i + 1)\n",
    "\n",
    "    # Step 2: Apply Rz(θ + π·x)\n",
    "    for i in range(PARTY_SIZE):\n",
    "        theta = angles[i] + (np.pi if bits[i] == 1 else 0)\n",
    "        qc.rz(theta, i)\n",
    "\n",
    "    # Step 3: All measure in X-basis (via Hadamard)\n",
    "    for i in range(PARTY_SIZE):\n",
    "        qc.h(i)\n",
    "        qc.measure(i, i)\n",
    "\n",
    "    return qc"
   ]
  },
  {
   "cell_type": "code",
   "execution_count": 8,
   "id": "4b94173d",
   "metadata": {},
   "outputs": [
    {
     "data": {
      "image/png": "[encoded data removed]",
      "text/plain": [
       "<Figure size 956.385x451.5 with 1 Axes>"
      ]
     },
     "execution_count": 8,
     "metadata": {},
     "output_type": "execute_result"
    }
   ],
   "source": [
    "angles_data, bits_data = prepare_data('./data/qrng_angles.csv', './data/threat_bits.csv')\n",
    "backend = AerSimulator()\n",
    "\n",
    "qc = build_qsmpc_circuit(angles_data[0], bits_data[0])\n",
    "qc.draw('mpl')"
   ]
  },
  {
   "cell_type": "code",
   "execution_count": 9,
   "id": "3de6fbec",
   "metadata": {},
   "outputs": [],
   "source": [
    "def simulate_round(angles: List[float], bits: List[int], backend, shots: int = 16) -> List[str]:\n",
    "    qc = build_qsmpc_circuit(angles, bits)\n",
    "    compiled = transpile(qc, backend)\n",
    "    result = backend.run(compiled, shots=shots).result()\n",
    "\n",
    "    counts = result.get_counts()\n",
    "    return list(chain.from_iterable([k] * v for k, v in counts.items()))\n"
   ]
  },
  {
   "cell_type": "code",
   "execution_count": null,
   "id": "25bf812a",
   "metadata": {},
   "outputs": [],
   "source": [
    "def majority_vote_bitstring(bitstrings: List[str]) -> str:\n",
    "    \"\"\"Compute majority bitstring over multiple shots.\"\"\"\n",
    "    length = len(bitstrings[0])\n",
    "    result = ''\n",
    "\n",
    "    for i in range(length):\n",
    "        bits_at_i = [b[i] for b in bitstrings]\n",
    "        most_common = Counter(bits_at_i).most_common(1)[0][0]\n",
    "        result += most_common\n",
    "\n",
    "    return result\n"
   ]
  },
  {
   "cell_type": "code",
   "execution_count": 11,
   "id": "3a579229",
   "metadata": {},
   "outputs": [],
   "source": [
    "def xor_bitstring(bitstring: str) -> int:\n",
    "    \"\"\"XOR all bits in a bitstring.\"\"\"\n",
    "    return int(np.bitwise_xor.reduce([int(b) for b in bitstring]))"
   ]
  },
  {
   "cell_type": "code",
   "execution_count": 12,
   "id": "33fc4012",
   "metadata": {},
   "outputs": [],
   "source": [
    "def run_all_samples(\n",
    "    angles_data: np.ndarray,\n",
    "    bits_data: np.ndarray,\n",
    "    backend,\n",
    "    shots_per_round: int = 16,\n",
    "    verbose: bool = False\n",
    ") -> List[int]:\n",
    "    \"\"\"\n",
    "    Run the Q-SMPC simulation over all samples.\n",
    "    \n",
    "    Returns a list of final XOR output bits (0 or 1) for each sample.\n",
    "    \"\"\"\n",
    "    predictions = []\n",
    "    latencies = []\n",
    "\n",
    "    for i in range(SAMPLE_SIZE):\n",
    "        angles = angles_data[i]\n",
    "        bits = bits_data[i]\n",
    "\n",
    "        start = time.perf_counter()\n",
    "        # Run and aggregate\n",
    "        bitstrings = simulate_round(angles, bits, backend, shots=shots_per_round)\n",
    "\n",
    "        majority = majority_vote_bitstring(bitstrings)\n",
    "\n",
    "        output_bit = majority_classical([int(b) for b in majority])\n",
    "\n",
    "        end = time.perf_counter()\n",
    "        latency_ms = (end - start) * 1000\n",
    "        latencies.append(latency_ms)\n",
    "\n",
    "        predictions.append(output_bit)\n",
    "\n",
    "        if verbose and (i < 5 or i % 100 == 0):\n",
    "            print(f\"[{i+1}/{SAMPLE_SIZE}] bits={bits.tolist()}, output={output_bit}, majority={majority}\")\n",
    "        \n",
    "    return predictions, latencies\n"
   ]
  },
  {
   "cell_type": "code",
   "execution_count": 13,
   "id": "8652b5fb",
   "metadata": {},
   "outputs": [
    {
     "name": "stdout",
     "output_type": "stream",
     "text": [
      "[1/1000] bits=[0, 0, 1, 1], output=0, majority=0010\n",
      "[2/1000] bits=[1, 1, 1, 1], output=0, majority=0110\n",
      "[3/1000] bits=[0, 1, 0, 1], output=0, majority=1010\n",
      "[4/1000] bits=[0, 0, 1, 0], output=0, majority=1100\n",
      "[5/1000] bits=[1, 1, 0, 0], output=0, majority=0010\n",
      "[101/1000] bits=[0, 1, 0, 0], output=0, majority=1000\n",
      "[201/1000] bits=[1, 1, 0, 0], output=0, majority=0100\n",
      "[301/1000] bits=[1, 0, 0, 0], output=0, majority=0001\n",
      "[401/1000] bits=[1, 1, 0, 1], output=1, majority=1101\n",
      "[501/1000] bits=[1, 1, 0, 0], output=1, majority=1111\n",
      "[601/1000] bits=[0, 1, 0, 0], output=0, majority=1100\n",
      "[701/1000] bits=[1, 0, 1, 1], output=1, majority=0111\n",
      "[801/1000] bits=[0, 1, 0, 0], output=0, majority=0001\n",
      "[901/1000] bits=[1, 1, 1, 1], output=0, majority=1001\n",
      "Final Evaluation\n",
      "Correctness vs Majority: 0.592\n",
      "QRNG Entropy:            3.463 bits\n",
      "Mean Per-Run Latency:     245.4 ms\n",
      "Aggregate Throughput:     4.07 rounds/sec\n"
     ]
    }
   ],
   "source": [
    "# Load data\n",
    "angles_data, bits_data = prepare_data('./data/qrng_angles.csv', './data/threat_bits.csv')\n",
    "backend = AerSimulator()\n",
    "\n",
    "predictions, latencies = run_all_samples(angles_data, bits_data, backend, shots_per_round=16, verbose=True)\n",
    "\n",
    "# Metrics\n",
    "acc_maj, entropy_val = compute_metrics(predictions, bits_data, angles_data)\n",
    "mean_latency = np.mean(latencies)\n",
    "throughput = SAMPLE_SIZE / (sum(latencies) / 1000)\n",
    "\n",
    "print(f\"Final Evaluation\")\n",
    "print(f\"Correctness vs Majority: {acc_maj:.3f}\")\n",
    "print(f\"QRNG Entropy:            {entropy_val:.3f} bits\")\n",
    "print(f\"Mean Per-Run Latency:     {mean_latency:.1f} ms\")\n",
    "print(f\"Aggregate Throughput:     {throughput:.2f} rounds/sec\")\n"
   ]
  },
  {
   "cell_type": "code",
   "execution_count": null,
   "id": "61d906e0",
   "metadata": {},
   "outputs": [],
   "source": []
  }
 ],
 "metadata": {
  "kernelspec": {
   "display_name": "quantum-computing",
   "language": "python",
   "name": "python3"
  },
  "language_info": {
   "codemirror_mode": {
    "name": "ipython",
    "version": 3
   },
   "file_extension": ".py",
   "mimetype": "text/x-python",
   "name": "python",
   "nbconvert_exporter": "python",
   "pygments_lexer": "ipython3",
   "version": "3.10.16"
  }
 },
 "nbformat": 4,
 "nbformat_minor": 5
}
