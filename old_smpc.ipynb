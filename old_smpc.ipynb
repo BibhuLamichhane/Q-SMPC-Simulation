{
 "cells": [
  {
   "cell_type": "code",
   "execution_count": 12,
   "id": "b0ce096c",
   "metadata": {},
   "outputs": [],
   "source": [
    "import pandas as pd\n",
    "import numpy as np\n",
    "from qiskit import QuantumCircuit, transpile\n",
    "from qiskit_aer import AerSimulator\n",
    "from typing import List, Tuple\n",
    "from collections import Counter\n",
    "from scipy.stats import entropy as shannon_entropy"
   ]
  },
  {
   "cell_type": "code",
   "execution_count": 3,
   "id": "55054256",
   "metadata": {},
   "outputs": [],
   "source": [
    "PARTY_SIZE = 4\n",
    "SAMPLE_SIZE = 1000"
   ]
  },
  {
   "cell_type": "code",
   "execution_count": null,
   "id": "3d344b05",
   "metadata": {},
   "outputs": [],
   "source": [
    "# 1. Data Loader\n",
    "def prepare_data(qrng_path: str, threat_path: str):\n",
    "    \"\"\"Load angle and threat bit data from CSVs and return as numpy arrays.\"\"\"\n",
    "    qrng = pd.read_csv(qrng_path)\n",
    "    threat = pd.read_csv(threat_path)\n",
    "\n",
    "    assert qrng.shape == threat.shape == (SAMPLE_SIZE, PARTY_SIZE), \"Shape mismatch or incorrect constants.\"\n",
    "\n",
    "    return qrng.values, threat.values.astype(int)"
   ]
  },
  {
   "cell_type": "code",
   "execution_count": null,
   "id": "1daaaa6a",
   "metadata": {},
   "outputs": [],
   "source": [
    "# 2. Circuit Builder\n",
    "def build_qsmpc_circuit(angles: List[float], bits: List[int]) -> QuantumCircuit:\n",
    "    \"\"\"Build a Q-SMPC circuit for given angles and input bits.\"\"\"\n",
    "    qc = QuantumCircuit(PARTY_SIZE, PARTY_SIZE)\n",
    "\n",
    "    # Graph state: H + CZ chain\n",
    "    qc.h(range(PARTY_SIZE))\n",
    "    for i in range(PARTY_SIZE - 1):\n",
    "        qc.cz(i, i + 1)\n",
    "\n",
    "    # Private angle rotations\n",
    "    for i in range(PARTY_SIZE):\n",
    "        qc.rz(angles[i], i)\n",
    "\n",
    "    # Conditional X-basis measurement\n",
    "    for i in range(PARTY_SIZE):\n",
    "        if bits[i] == 1:\n",
    "            qc.h(i)\n",
    "        qc.measure(i, i)\n",
    "\n",
    "    return qc"
   ]
  },
  {
   "cell_type": "code",
   "execution_count": null,
   "id": "c7001e78",
   "metadata": {},
   "outputs": [],
   "source": [
    "def majority_vote_bitstring(bitstrings: List[str]) -> str:\n",
    "    \"\"\"Given a list of bitstrings (e.g. ['0111', '0011']), return majority bitstring per qubit.\"\"\"\n",
    "    \n",
    "    length = len(bitstrings[0])\n",
    "    vote_result = ''\n",
    "\n",
    "    for i in range(length):\n",
    "        ith_bits = [bits[i] for bits in bitstrings]\n",
    "        common_bit = Counter(ith_bits).most_common(1)[0][0]\n",
    "        vote_result += common_bit\n",
    "\n",
    "    return vote_result"
   ]
  },
  {
   "cell_type": "code",
   "execution_count": null,
   "id": "cea6de4d",
   "metadata": {},
   "outputs": [],
   "source": [
    "def xor_bitstring(bitstring: str) -> int:\n",
    "    \"\"\"XOR all bits in a bitstring and return a single bit result.\"\"\"\n",
    "    return int(np.bitwise_xor.reduce([int(b) for b in bitstring]))"
   ]
  },
  {
   "cell_type": "code",
   "execution_count": null,
   "id": "16e71046",
   "metadata": {},
   "outputs": [],
   "source": [
    "# 3. Round Runner\n",
    "def simulate_round(angles: List[float], bits: List[int], backend, shots: int = 1) -> List[str]:\n",
    "    \"\"\"Run a single Q-SMPC round and return raw measurement bitstrings.\"\"\"\n",
    "    qc = build_qsmpc_circuit(angles, bits)\n",
    "    compiled = transpile(qc, backend)\n",
    "    result = backend.run(compiled, shots=shots).result()\n",
    "    return list(result.get_counts().keys())"
   ]
  },
  {
   "cell_type": "code",
   "execution_count": null,
   "id": "4bcc702d",
   "metadata": {},
   "outputs": [],
   "source": [
    "def majority_classical(bits: List[int]) -> int:\n",
    "    \"\"\"Returns 1 if majority (3 or more) of bits are 1.\"\"\"\n",
    "    return int(sum(bits) >= 3)"
   ]
  },
  {
   "cell_type": "code",
   "execution_count": null,
   "id": "0c4246bd",
   "metadata": {},
   "outputs": [],
   "source": [
    "def or_classical(bits: List[int]) -> int:\n",
    "    \"\"\"Returns 1 if any party saw the threat (bit is 1).\"\"\"\n",
    "    return int(any(bits))"
   ]
  },
  {
   "cell_type": "code",
   "execution_count": null,
   "id": "2f2e1e9a",
   "metadata": {},
   "outputs": [],
   "source": [
    "def compute_metrics(predictions: List[int], true_bits: np.ndarray, angles: np.ndarray) -> Tuple[float, float, float]:\n",
    "    \"\"\"\n",
    "    predictions: list of 0/1 quantum output bits (length = SAMPLE_SIZE)\n",
    "    true_bits: full threat_bits array of shape (SAMPLE_SIZE, PARTY_SIZE)\n",
    "    angles: full qrng_angles array of shape (SAMPLE_SIZE, PARTY_SIZE)\n",
    "    \n",
    "    Returns:\n",
    "        - Accuracy vs majority\n",
    "        - Accuracy vs OR\n",
    "        - Shannon entropy of angle distribution\n",
    "    \"\"\"\n",
    "    assert len(predictions) == len(true_bits) == len(angles)\n",
    "\n",
    "    correct_majority = 0\n",
    "    correct_or = 0\n",
    "\n",
    "    for i in range(len(predictions)):\n",
    "        pred = predictions[i]\n",
    "        true_maj = majority_classical(true_bits[i])\n",
    "        true_or = or_classical(true_bits[i])\n",
    "\n",
    "        if pred == true_maj:\n",
    "            correct_majority += 1\n",
    "        if pred == true_or:\n",
    "            correct_or += 1\n",
    "\n",
    "    acc_majority = correct_majority / len(predictions)\n",
    "    acc_or = correct_or / len(predictions)\n",
    "\n",
    "    # QRNG entropy over all angle values\n",
    "    flat_angles = angles.flatten()\n",
    "    hist, _ = np.histogram(flat_angles, bins=32, range=(0, 2 * np.pi), density=True)\n",
    "    entropy_val = shannon_entropy(hist)\n",
    "\n",
    "    return acc_majority, acc_or, entropy_val"
   ]
  },
  {
   "cell_type": "code",
   "execution_count": null,
   "id": "f9e45df0",
   "metadata": {},
   "outputs": [],
   "source": [
    "def run_all_samples(\n",
    "    angles_data: np.ndarray,\n",
    "    bits_data: np.ndarray,\n",
    "    backend,\n",
    "    shots_per_round: int = 16,\n",
    "    verbose: bool = False\n",
    ") -> List[int]:\n",
    "    \"\"\"\n",
    "    Run the full Q-SMPC protocol for all samples.\n",
    "    \n",
    "    Returns a list of 0/1 quantum-derived output bits.\n",
    "    \"\"\"\n",
    "    predictions = []\n",
    "\n",
    "    for i in range(SAMPLE_SIZE):\n",
    "        angles = angles_data[i]\n",
    "        bits = bits_data[i]\n",
    "\n",
    "        bitstrings = simulate_round(angles, bits, backend, shots=shots_per_round)\n",
    "        majority = majority_vote_bitstring(bitstrings)\n",
    "        output_bit = xor_bitstring(majority)\n",
    "\n",
    "        predictions.append(output_bit)\n",
    "\n",
    "        if verbose and (i < 5 or i % 100 == 0):  # limit printouts\n",
    "            print(f\"[{i+1}/{SAMPLE_SIZE}] output={output_bit}, bits={bits.tolist()}, angles={np.round(angles, 2)}\")\n",
    "\n",
    "    return predictions\n"
   ]
  },
  {
   "cell_type": "code",
   "execution_count": null,
   "id": "3f30a03a",
   "metadata": {},
   "outputs": [
    {
     "name": "stdout",
     "output_type": "stream",
     "text": [
      "[1/1000] output=1, bits=[0, 0, 1, 1], angles=[5.5  5.94 2.06 2.04]\n",
      "[2/1000] output=0, bits=[1, 1, 1, 1], angles=[2.33 2.99 4.84 1.15]\n",
      "[3/1000] output=1, bits=[0, 1, 0, 1], angles=[0.96 1.84 4.17 5.89]\n",
      "[4/1000] output=0, bits=[0, 0, 1, 0], angles=[0.12 3.24 1.77 5.38]\n",
      "[5/1000] output=1, bits=[1, 1, 0, 0], angles=[2.18 2.04 0.44 2.26]\n",
      "[101/1000] output=1, bits=[0, 1, 0, 0], angles=[2.82 1.5  2.97 4.44]\n",
      "[201/1000] output=1, bits=[1, 1, 0, 0], angles=[4.34 3.95 4.37 4.12]\n",
      "[301/1000] output=1, bits=[1, 0, 0, 0], angles=[1.99 1.23 5.03 0.29]\n",
      "[401/1000] output=1, bits=[1, 1, 0, 1], angles=[4.17 5.08 5.84 3.93]\n",
      "[501/1000] output=0, bits=[1, 1, 0, 0], angles=[3.85 3.78 3.83 5.89]\n",
      "[601/1000] output=1, bits=[0, 1, 0, 0], angles=[0.12 5.15 4.74 1.2 ]\n",
      "[701/1000] output=0, bits=[1, 0, 1, 1], angles=[3.66 0.12 5.13 2.48]\n",
      "[801/1000] output=0, bits=[0, 1, 0, 0], angles=[2.36 4.47 1.72 4.32]\n",
      "[901/1000] output=0, bits=[1, 1, 1, 1], angles=[5.13 3.19 0.81 1.74]\n",
      "\n",
      "✅ Accuracy vs Majority: 0.497\n",
      "✅ Accuracy vs OR:       0.485\n",
      "🔐 QRNG Entropy:         3.463 bits\n"
     ]
    }
   ],
   "source": [
    "# Load data and backend\n",
    "angles_data, bits_data = prepare_data('./data/qrng_angles.csv', './data/threat_bits.csv')\n",
    "backend = AerSimulator()\n",
    "\n",
    "# Run full batch\n",
    "predictions = run_all_samples(angles_data, bits_data, backend, shots_per_round=16, verbose=True)\n",
    "\n",
    "# Evaluate results\n",
    "acc_maj, acc_or, entropy_val = compute_metrics(predictions, bits_data, angles_data)\n",
    "\n",
    "print(f\"\\nAccuracy vs Majority: {acc_maj:.3f}\")\n",
    "print(f\"Accuracy vs OR:       {acc_or:.3f}\")\n",
    "print(f\"QRNG Entropy:         {entropy_val:.3f} bits\")\n"
   ]
  },
  {
   "cell_type": "code",
   "execution_count": null,
   "id": "6354c4e3",
   "metadata": {},
   "outputs": [],
   "source": []
  }
 ],
 "metadata": {
  "kernelspec": {
   "display_name": "quantum-computing",
   "language": "python",
   "name": "python3"
  },
  "language_info": {
   "codemirror_mode": {
    "name": "ipython",
    "version": 3
   },
   "file_extension": ".py",
   "mimetype": "text/x-python",
   "name": "python",
   "nbconvert_exporter": "python",
   "pygments_lexer": "ipython3",
   "version": "3.10.16"
  }
 },
 "nbformat": 4,
 "nbformat_minor": 5
}
