{
 "cells": [
  {
   "cell_type": "code",
   "execution_count": 7,
   "id": "ed5272c8",
   "metadata": {},
   "outputs": [],
   "source": [
    "import numpy as np\n",
    "import pandas as pd\n",
    "import requests\n",
    "import time"
   ]
  },
  {
   "cell_type": "code",
   "execution_count": 8,
   "id": "9c3dbe9e",
   "metadata": {},
   "outputs": [],
   "source": [
    "TOTAL_PARTIES = 4\n",
    "NUM_SAMPLES = 1000"
   ]
  },
  {
   "cell_type": "code",
   "execution_count": null,
   "id": "83e4ecc9",
   "metadata": {},
   "outputs": [],
   "source": [
    "def fetch_qrng_bits(length=1024, retries=3, delay=60.0):\n",
    "    \"\"\"Fetch real quantum random bits from ANU QRNG API\"\"\"\n",
    "    # Faced error with the ANU QRNG API as its limited to 1 request per minute\n",
    "    # Added delay to handle rate limiting\n",
    "    num_bytes = length // 8\n",
    "    url = f\"https://qrng.anu.edu.au/API/jsonI.php?length={num_bytes}&type=uint8\"\n",
    "\n",
    "    for attempt in range(retries):\n",
    "        try:\n",
    "            response = requests.get(url)\n",
    "            data = response.json()\n",
    "\n",
    "            if data.get(\"success\"):\n",
    "                return data[\"data\"]\n",
    "            else:\n",
    "                print(f\"API error: {data.get('message')}\")\n",
    "        except Exception as e:\n",
    "            print(f\"QRNG API error: {e}\")\n",
    "\n",
    "        print(f\"Retrying... ({attempt+1}/{retries})\")\n",
    "        time.sleep(delay)\n",
    "\n",
    "    return None"
   ]
  },
  {
   "cell_type": "code",
   "execution_count": 10,
   "id": "0ff31e02",
   "metadata": {},
   "outputs": [],
   "source": [
    "def uint8_to_angles(uint8_array):\n",
    "    \"\"\"Convert 8-bit integers to angles in radians: [0, 2π).\"\"\"\n",
    "    return (np.array(uint8_array) / 256) * (2 * np.pi)"
   ]
  },
  {
   "cell_type": "code",
   "execution_count": 11,
   "id": "93ed0be6",
   "metadata": {},
   "outputs": [],
   "source": [
    "def generate_qrng_angles_df(num_parties=TOTAL_PARTIES, num_samples=NUM_SAMPLES):\n",
    "    \"\"\"Generate a DataFrame of quantum angles (radians) per party per sample.\"\"\"\n",
    "    angles_dict = {}\n",
    "    \n",
    "    for i in range(num_parties):\n",
    "        party_label = f\"party_{chr(65 + i)}\"\n",
    "        print(f\"Fetching QRNG values for {party_label}...\")\n",
    "        raw = fetch_qrng_bits(num_samples * 8)  # get 1000 bytes = 8000 bits\n",
    "        if raw is None:\n",
    "            raise RuntimeError(f\"Failed to fetch QRNG values for {party_label}\")\n",
    "        \n",
    "        angles = uint8_to_angles(raw[:num_samples])  # use first 1000 bytes\n",
    "        angles_dict[party_label] = angles\n",
    "    \n",
    "    return pd.DataFrame(angles_dict)"
   ]
  },
  {
   "cell_type": "code",
   "execution_count": 12,
   "id": "d3520cfb",
   "metadata": {},
   "outputs": [
    {
     "name": "stdout",
     "output_type": "stream",
     "text": [
      "Fetching QRNG values for party_A...\n",
      "Fetching QRNG values for party_B...\n",
      "QRNG API error: Expecting value: line 1 column 1 (char 0)\n",
      "Retrying... (1/3)\n",
      "QRNG API error: Expecting value: line 1 column 1 (char 0)\n",
      "Retrying... (2/3)\n",
      "Fetching QRNG values for party_C...\n",
      "QRNG API error: Expecting value: line 1 column 1 (char 0)\n",
      "Retrying... (1/3)\n",
      "QRNG API error: Expecting value: line 1 column 1 (char 0)\n",
      "Retrying... (2/3)\n",
      "Fetching QRNG values for party_D...\n",
      "QRNG API error: Expecting value: line 1 column 1 (char 0)\n",
      "Retrying... (1/3)\n",
      "QRNG API error: Expecting value: line 1 column 1 (char 0)\n",
      "Retrying... (2/3)\n",
      "✅ QRNG angles saved to qrng_angles.csv\n"
     ]
    }
   ],
   "source": [
    "qrng_angles = generate_qrng_angles_df()\n",
    "qrng_angles.to_csv(\"qrng_angles.csv\", index=False)\n",
    "print(\"✅ QRNG angles saved to qrng_angles.csv\")"
   ]
  },
  {
   "cell_type": "code",
   "execution_count": null,
   "id": "9e1a733c",
   "metadata": {},
   "outputs": [],
   "source": []
  }
 ],
 "metadata": {
  "kernelspec": {
   "display_name": "quantum-computing",
   "language": "python",
   "name": "python3"
  },
  "language_info": {
   "codemirror_mode": {
    "name": "ipython",
    "version": 3
   },
   "file_extension": ".py",
   "mimetype": "text/x-python",
   "name": "python",
   "nbconvert_exporter": "python",
   "pygments_lexer": "ipython3",
   "version": "3.10.16"
  }
 },
 "nbformat": 4,
 "nbformat_minor": 5
}
